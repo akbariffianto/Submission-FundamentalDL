{
  "nbformat": 4,
  "nbformat_minor": 0,
  "metadata": {
    "colab": {
      "provenance": []
    },
    "kernelspec": {
      "name": "python3",
      "display_name": "Python 3"
    },
    "language_info": {
      "name": "python"
    }
  },
  "cells": [
    {
      "cell_type": "code",
      "source": [
        "!pip install google-play-scraper"
      ],
      "metadata": {
        "colab": {
          "base_uri": "https://localhost:8080/"
        },
        "id": "Vh0x-Hyh0rke",
        "outputId": "5e9e8e89-6b74-4552-f5ce-a5fe77869ef9"
      },
      "execution_count": null,
      "outputs": [
        {
          "output_type": "stream",
          "name": "stdout",
          "text": [
            "Collecting google-play-scraper\n",
            "  Downloading google_play_scraper-1.2.7-py3-none-any.whl.metadata (50 kB)\n",
            "\u001b[?25l     \u001b[90m━━━━━━━━━━━━━━━━━━━━━━━━━━━━━━━━━━━━━━━━\u001b[0m \u001b[32m0.0/50.2 kB\u001b[0m \u001b[31m?\u001b[0m eta \u001b[36m-:--:--\u001b[0m\r\u001b[2K     \u001b[90m━━━━━━━━━━━━━━━━━━━━━━━━━━━━━━━━━━━━━━━━\u001b[0m \u001b[32m50.2/50.2 kB\u001b[0m \u001b[31m2.8 MB/s\u001b[0m eta \u001b[36m0:00:00\u001b[0m\n",
            "\u001b[?25hDownloading google_play_scraper-1.2.7-py3-none-any.whl (28 kB)\n",
            "Installing collected packages: google-play-scraper\n",
            "Successfully installed google-play-scraper-1.2.7\n"
          ]
        }
      ]
    },
    {
      "cell_type": "markdown",
      "source": [],
      "metadata": {
        "id": "7jsE-EZdLKua"
      }
    },
    {
      "cell_type": "code",
      "source": [
        "# Mengimpor pustaka google_play_scraper untuk mengakses ulasan dan informasi aplikasi dari Google Play Store.\n",
        "from google_play_scraper import app, reviews_all, Sort\n",
        "\n",
        "# Mengambil semua ulasan dari aplikasi dengan ID 'com.mobile.legends' di Google Play Store.\n",
        "# Proses scraping mungkin memerlukan beberapa saat tergantung pada jumlah ulasan yang ada.\n",
        "scrapreview = reviews_all(\n",
        "    'com.mobile.legends',  # ID aplikasi\n",
        "    lang='id',             # Bahasa ulasan (default: 'id')\n",
        "    country='id',          # Negara (default: 'id')\n",
        "    sort=Sort.MOST_RELEVANT, # Urutan ulasan (default: Sort.MOST_RELEVANT)          # Jumlah maksimum ulasan yang ingin diambil\n",
        ")"
      ],
      "metadata": {
        "id": "h9VZA0sX-AZy"
      },
      "execution_count": null,
      "outputs": []
    },
    {
      "cell_type": "code",
      "source": [
        "import csv\n",
        "\n",
        "with open('mobileLegend_feedback.csv', mode='w', newline='', encoding='utf-8') as file:\n",
        "    writer = csv.writer(file)\n",
        "    writer.writerow(['Review', 'Score'])\n",
        "\n",
        "    # Menulis konten ulasan dan skornya ke dalam file CSV\n",
        "    # Asumsi scrapreview[0] adalah list of dictionaries\n",
        "    for review in scrapreview:\n",
        "        writer.writerow([review['content'], review['score']])"
      ],
      "metadata": {
        "id": "fwjY2QcgEgKB"
      },
      "execution_count": null,
      "outputs": []
    },
    {
      "cell_type": "code",
      "source": [
        "import csv\n",
        "\n",
        "# Filter ulasan berdasarkan skor\n",
        "reviews_high = [review for review in scrapreview if review['score'] >= 4]\n",
        "reviews_medium = [review for review in scrapreview if review['score'] == 3]\n",
        "reviews_low = [review for review in scrapreview if review['score'] <= 2]\n",
        "\n",
        "# Mengambil jumlah ulasan yang diinginkan dari setiap kategori\n",
        "num_reviews = 4000\n",
        "selected_reviews = reviews_high[:num_reviews] + reviews_medium[:num_reviews] + reviews_low[:num_reviews]\n",
        "\n",
        "# Menulis ulasan yang dipilih ke dalam file CSV baru\n",
        "with open('mobileLegend_feedback_balanced.csv', mode='w', newline='', encoding='utf-8') as file:\n",
        "    writer = csv.writer(file)\n",
        "    writer.writerow(['Review', 'Score'])\n",
        "    for review in selected_reviews:\n",
        "        writer.writerow([review['content'], review['score']])\n",
        "\n",
        "print(f\"Successfully created 'mobileLegend_feedback_balanced.csv' with {len(selected_reviews)} reviews.\")"
      ],
      "metadata": {
        "id": "u8pB69B_iS_z",
        "colab": {
          "base_uri": "https://localhost:8080/"
        },
        "outputId": "eaea2aae-02a8-4355-929e-faa274dfecef"
      },
      "execution_count": null,
      "outputs": [
        {
          "metadata": {
            "tags": null
          },
          "name": "stdout",
          "output_type": "stream",
          "text": [
            "Successfully created 'mobileLegend_feedback_balanced.csv' with 12000 reviews.\n"
          ]
        }
      ]
    }
  ]
}