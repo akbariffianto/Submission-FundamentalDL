{
  "cells": [
    {
      "cell_type": "markdown",
      "metadata": {
        "id": "R5T4Nt8g-18h"
      },
      "source": [
        "**Nama : Akbar Ariffianto**"
      ]
    },
    {
      "cell_type": "markdown",
      "metadata": {
        "id": "o2-l2cTa_Hw5"
      },
      "source": [
        "#Import Libraries"
      ]
    },
    {
      "cell_type": "code",
      "execution_count": 5,
      "metadata": {
        "colab": {
          "base_uri": "https://localhost:8080/"
        },
        "id": "-r5v_R7zBXm4",
        "outputId": "6b3f612b-feb6-4894-ca85-f58a3935f88b"
      },
      "outputs": [
        {
          "output_type": "stream",
          "name": "stdout",
          "text": [
            "Requirement already satisfied: sastrawi in /usr/local/lib/python3.12/dist-packages (1.0.1)\n"
          ]
        },
        {
          "output_type": "stream",
          "name": "stderr",
          "text": [
            "[nltk_data] Downloading package punkt to /root/nltk_data...\n",
            "[nltk_data]   Package punkt is already up-to-date!\n",
            "[nltk_data] Downloading package stopwords to /root/nltk_data...\n",
            "[nltk_data]   Package stopwords is already up-to-date!\n",
            "[nltk_data] Downloading package punkt_tab to /root/nltk_data...\n",
            "[nltk_data]   Package punkt_tab is already up-to-date!\n"
          ]
        }
      ],
      "source": [
        "import pandas as pd  # Pandas untuk manipulasi dan analisis data\n",
        "pd.options.mode.chained_assignment = None  # Menonaktifkan peringatan chaining\n",
        "import numpy as np  # NumPy untuk komputasi numerik\n",
        "seed = 0\n",
        "np.random.seed(seed)  # Mengatur seed untuk reproduktibilitas\n",
        "import matplotlib.pyplot as plt  # Matplotlib untuk visualisasi data\n",
        "import seaborn as sns  # Seaborn untuk visualisasi data statistik, mengatur gaya visualisasi\n",
        "from sklearn.metrics import accuracy_score\n",
        "\n",
        "from tqdm import tqdm\n",
        "tqdm.pandas()\n",
        "\n",
        "import datetime as dt  # Manipulasi data waktu dan tanggal\n",
        "import re  # Modul untuk bekerja dengan ekspresi reguler\n",
        "import string  # Berisi konstanta string, seperti tanda baca\n",
        "from nltk.tokenize import word_tokenize  # Tokenisasi teks\n",
        "from nltk.corpus import stopwords  # Daftar kata-kata berhenti dalam teks\n",
        "\n",
        "!pip install sastrawi\n",
        "from Sastrawi.Stemmer.StemmerFactory import StemmerFactory  # Stemming (penghilangan imbuhan kata) dalam bahasa Indonesia\n",
        "from Sastrawi.StopWordRemover.StopWordRemoverFactory import StopWordRemoverFactory  # Menghapus kata-kata berhenti dalam bahasa Indonesia\n",
        "\n",
        "from wordcloud import WordCloud  # Membuat visualisasi berbentuk awan kata (word cloud) dari teks\n",
        "\n",
        "import nltk  # Import pustaka NLTK (Natural Language Toolkit).\n",
        "nltk.download('punkt')  # Mengunduh dataset yang diperlukan untuk tokenisasi teks.\n",
        "nltk.download('stopwords')  # Mengunduh dataset yang berisi daftar kata-kata berhenti (stopwords) dalam berbagai bahasa.\n",
        "nltk.download('punkt_tab') # Download punkt_tab\n",
        "\n",
        "from sklearn.feature_extraction.text import TfidfVectorizer\n",
        "\n",
        "from imblearn.over_sampling import SMOTE\n",
        "\n",
        "from joblib import dump"
      ]
    },
    {
      "cell_type": "markdown",
      "metadata": {
        "id": "WoO6hZTQ_MCx"
      },
      "source": [
        "#Load Dataset"
      ]
    },
    {
      "cell_type": "code",
      "execution_count": 6,
      "metadata": {
        "id": "cApKxlc7C8Ia"
      },
      "outputs": [],
      "source": [
        "ml_review = pd.read_csv(\"/content/mobileLegend_feedback_balanced.csv\")"
      ]
    },
    {
      "cell_type": "code",
      "execution_count": 7,
      "metadata": {
        "colab": {
          "base_uri": "https://localhost:8080/"
        },
        "id": "3EK4Khg1DGs5",
        "outputId": "9155d188-fd0e-4591-ef15-ee940923f138"
      },
      "outputs": [
        {
          "output_type": "stream",
          "name": "stdout",
          "text": [
            "<class 'pandas.core.frame.DataFrame'>\n",
            "RangeIndex: 12000 entries, 0 to 11999\n",
            "Data columns (total 2 columns):\n",
            " #   Column  Non-Null Count  Dtype \n",
            "---  ------  --------------  ----- \n",
            " 0   Review  12000 non-null  object\n",
            " 1   Score   12000 non-null  int64 \n",
            "dtypes: int64(1), object(1)\n",
            "memory usage: 187.6+ KB\n"
          ]
        }
      ],
      "source": [
        "ml_review.info()"
      ]
    },
    {
      "cell_type": "code",
      "execution_count": 8,
      "metadata": {
        "colab": {
          "base_uri": "https://localhost:8080/",
          "height": 206
        },
        "id": "J1Dz5saXEA0S",
        "outputId": "dccb62d9-0447-4306-aaeb-244d62d33edd"
      },
      "outputs": [
        {
          "output_type": "execute_result",
          "data": {
            "text/plain": [
              "                                              Review  Score\n",
              "0  Saya merasa sangat kesal ketika sedang bermain...      5\n",
              "1  Aplikasi macam apa ini,sinyal tidak stabil pad...      5\n",
              "2  \"Sebenernya Mobile Legends tuh game-nya seru b...      5\n",
              "3  Haloo min MLBB, sebelumnya mau kasih ulasan ka...      5\n",
              "4  game nya memang bagus event nya juga menarik t...      5"
            ],
            "text/html": [
              "\n",
              "  <div id=\"df-b27dd804-34e3-4f60-bdc9-b883eeaf4665\" class=\"colab-df-container\">\n",
              "    <div>\n",
              "<style scoped>\n",
              "    .dataframe tbody tr th:only-of-type {\n",
              "        vertical-align: middle;\n",
              "    }\n",
              "\n",
              "    .dataframe tbody tr th {\n",
              "        vertical-align: top;\n",
              "    }\n",
              "\n",
              "    .dataframe thead th {\n",
              "        text-align: right;\n",
              "    }\n",
              "</style>\n",
              "<table border=\"1\" class=\"dataframe\">\n",
              "  <thead>\n",
              "    <tr style=\"text-align: right;\">\n",
              "      <th></th>\n",
              "      <th>Review</th>\n",
              "      <th>Score</th>\n",
              "    </tr>\n",
              "  </thead>\n",
              "  <tbody>\n",
              "    <tr>\n",
              "      <th>0</th>\n",
              "      <td>Saya merasa sangat kesal ketika sedang bermain...</td>\n",
              "      <td>5</td>\n",
              "    </tr>\n",
              "    <tr>\n",
              "      <th>1</th>\n",
              "      <td>Aplikasi macam apa ini,sinyal tidak stabil pad...</td>\n",
              "      <td>5</td>\n",
              "    </tr>\n",
              "    <tr>\n",
              "      <th>2</th>\n",
              "      <td>\"Sebenernya Mobile Legends tuh game-nya seru b...</td>\n",
              "      <td>5</td>\n",
              "    </tr>\n",
              "    <tr>\n",
              "      <th>3</th>\n",
              "      <td>Haloo min MLBB, sebelumnya mau kasih ulasan ka...</td>\n",
              "      <td>5</td>\n",
              "    </tr>\n",
              "    <tr>\n",
              "      <th>4</th>\n",
              "      <td>game nya memang bagus event nya juga menarik t...</td>\n",
              "      <td>5</td>\n",
              "    </tr>\n",
              "  </tbody>\n",
              "</table>\n",
              "</div>\n",
              "    <div class=\"colab-df-buttons\">\n",
              "\n",
              "  <div class=\"colab-df-container\">\n",
              "    <button class=\"colab-df-convert\" onclick=\"convertToInteractive('df-b27dd804-34e3-4f60-bdc9-b883eeaf4665')\"\n",
              "            title=\"Convert this dataframe to an interactive table.\"\n",
              "            style=\"display:none;\">\n",
              "\n",
              "  <svg xmlns=\"http://www.w3.org/2000/svg\" height=\"24px\" viewBox=\"0 -960 960 960\">\n",
              "    <path d=\"M120-120v-720h720v720H120Zm60-500h600v-160H180v160Zm220 220h160v-160H400v160Zm0 220h160v-160H400v160ZM180-400h160v-160H180v160Zm440 0h160v-160H620v160ZM180-180h160v-160H180v160Zm440 0h160v-160H620v160Z\"/>\n",
              "  </svg>\n",
              "    </button>\n",
              "\n",
              "  <style>\n",
              "    .colab-df-container {\n",
              "      display:flex;\n",
              "      gap: 12px;\n",
              "    }\n",
              "\n",
              "    .colab-df-convert {\n",
              "      background-color: #E8F0FE;\n",
              "      border: none;\n",
              "      border-radius: 50%;\n",
              "      cursor: pointer;\n",
              "      display: none;\n",
              "      fill: #1967D2;\n",
              "      height: 32px;\n",
              "      padding: 0 0 0 0;\n",
              "      width: 32px;\n",
              "    }\n",
              "\n",
              "    .colab-df-convert:hover {\n",
              "      background-color: #E2EBFA;\n",
              "      box-shadow: 0px 1px 2px rgba(60, 64, 67, 0.3), 0px 1px 3px 1px rgba(60, 64, 67, 0.15);\n",
              "      fill: #174EA6;\n",
              "    }\n",
              "\n",
              "    .colab-df-buttons div {\n",
              "      margin-bottom: 4px;\n",
              "    }\n",
              "\n",
              "    [theme=dark] .colab-df-convert {\n",
              "      background-color: #3B4455;\n",
              "      fill: #D2E3FC;\n",
              "    }\n",
              "\n",
              "    [theme=dark] .colab-df-convert:hover {\n",
              "      background-color: #434B5C;\n",
              "      box-shadow: 0px 1px 3px 1px rgba(0, 0, 0, 0.15);\n",
              "      filter: drop-shadow(0px 1px 2px rgba(0, 0, 0, 0.3));\n",
              "      fill: #FFFFFF;\n",
              "    }\n",
              "  </style>\n",
              "\n",
              "    <script>\n",
              "      const buttonEl =\n",
              "        document.querySelector('#df-b27dd804-34e3-4f60-bdc9-b883eeaf4665 button.colab-df-convert');\n",
              "      buttonEl.style.display =\n",
              "        google.colab.kernel.accessAllowed ? 'block' : 'none';\n",
              "\n",
              "      async function convertToInteractive(key) {\n",
              "        const element = document.querySelector('#df-b27dd804-34e3-4f60-bdc9-b883eeaf4665');\n",
              "        const dataTable =\n",
              "          await google.colab.kernel.invokeFunction('convertToInteractive',\n",
              "                                                    [key], {});\n",
              "        if (!dataTable) return;\n",
              "\n",
              "        const docLinkHtml = 'Like what you see? Visit the ' +\n",
              "          '<a target=\"_blank\" href=https://colab.research.google.com/notebooks/data_table.ipynb>data table notebook</a>'\n",
              "          + ' to learn more about interactive tables.';\n",
              "        element.innerHTML = '';\n",
              "        dataTable['output_type'] = 'display_data';\n",
              "        await google.colab.output.renderOutput(dataTable, element);\n",
              "        const docLink = document.createElement('div');\n",
              "        docLink.innerHTML = docLinkHtml;\n",
              "        element.appendChild(docLink);\n",
              "      }\n",
              "    </script>\n",
              "  </div>\n",
              "\n",
              "\n",
              "    <div id=\"df-8f3a4f33-b806-47f0-9677-25fbcb1b8346\">\n",
              "      <button class=\"colab-df-quickchart\" onclick=\"quickchart('df-8f3a4f33-b806-47f0-9677-25fbcb1b8346')\"\n",
              "                title=\"Suggest charts\"\n",
              "                style=\"display:none;\">\n",
              "\n",
              "<svg xmlns=\"http://www.w3.org/2000/svg\" height=\"24px\"viewBox=\"0 0 24 24\"\n",
              "     width=\"24px\">\n",
              "    <g>\n",
              "        <path d=\"M19 3H5c-1.1 0-2 .9-2 2v14c0 1.1.9 2 2 2h14c1.1 0 2-.9 2-2V5c0-1.1-.9-2-2-2zM9 17H7v-7h2v7zm4 0h-2V7h2v10zm4 0h-2v-4h2v4z\"/>\n",
              "    </g>\n",
              "</svg>\n",
              "      </button>\n",
              "\n",
              "<style>\n",
              "  .colab-df-quickchart {\n",
              "      --bg-color: #E8F0FE;\n",
              "      --fill-color: #1967D2;\n",
              "      --hover-bg-color: #E2EBFA;\n",
              "      --hover-fill-color: #174EA6;\n",
              "      --disabled-fill-color: #AAA;\n",
              "      --disabled-bg-color: #DDD;\n",
              "  }\n",
              "\n",
              "  [theme=dark] .colab-df-quickchart {\n",
              "      --bg-color: #3B4455;\n",
              "      --fill-color: #D2E3FC;\n",
              "      --hover-bg-color: #434B5C;\n",
              "      --hover-fill-color: #FFFFFF;\n",
              "      --disabled-bg-color: #3B4455;\n",
              "      --disabled-fill-color: #666;\n",
              "  }\n",
              "\n",
              "  .colab-df-quickchart {\n",
              "    background-color: var(--bg-color);\n",
              "    border: none;\n",
              "    border-radius: 50%;\n",
              "    cursor: pointer;\n",
              "    display: none;\n",
              "    fill: var(--fill-color);\n",
              "    height: 32px;\n",
              "    padding: 0;\n",
              "    width: 32px;\n",
              "  }\n",
              "\n",
              "  .colab-df-quickchart:hover {\n",
              "    background-color: var(--hover-bg-color);\n",
              "    box-shadow: 0 1px 2px rgba(60, 64, 67, 0.3), 0 1px 3px 1px rgba(60, 64, 67, 0.15);\n",
              "    fill: var(--button-hover-fill-color);\n",
              "  }\n",
              "\n",
              "  .colab-df-quickchart-complete:disabled,\n",
              "  .colab-df-quickchart-complete:disabled:hover {\n",
              "    background-color: var(--disabled-bg-color);\n",
              "    fill: var(--disabled-fill-color);\n",
              "    box-shadow: none;\n",
              "  }\n",
              "\n",
              "  .colab-df-spinner {\n",
              "    border: 2px solid var(--fill-color);\n",
              "    border-color: transparent;\n",
              "    border-bottom-color: var(--fill-color);\n",
              "    animation:\n",
              "      spin 1s steps(1) infinite;\n",
              "  }\n",
              "\n",
              "  @keyframes spin {\n",
              "    0% {\n",
              "      border-color: transparent;\n",
              "      border-bottom-color: var(--fill-color);\n",
              "      border-left-color: var(--fill-color);\n",
              "    }\n",
              "    20% {\n",
              "      border-color: transparent;\n",
              "      border-left-color: var(--fill-color);\n",
              "      border-top-color: var(--fill-color);\n",
              "    }\n",
              "    30% {\n",
              "      border-color: transparent;\n",
              "      border-left-color: var(--fill-color);\n",
              "      border-top-color: var(--fill-color);\n",
              "      border-right-color: var(--fill-color);\n",
              "    }\n",
              "    40% {\n",
              "      border-color: transparent;\n",
              "      border-right-color: var(--fill-color);\n",
              "      border-top-color: var(--fill-color);\n",
              "    }\n",
              "    60% {\n",
              "      border-color: transparent;\n",
              "      border-right-color: var(--fill-color);\n",
              "    }\n",
              "    80% {\n",
              "      border-color: transparent;\n",
              "      border-right-color: var(--fill-color);\n",
              "      border-bottom-color: var(--fill-color);\n",
              "    }\n",
              "    90% {\n",
              "      border-color: transparent;\n",
              "      border-bottom-color: var(--fill-color);\n",
              "    }\n",
              "  }\n",
              "</style>\n",
              "\n",
              "      <script>\n",
              "        async function quickchart(key) {\n",
              "          const quickchartButtonEl =\n",
              "            document.querySelector('#' + key + ' button');\n",
              "          quickchartButtonEl.disabled = true;  // To prevent multiple clicks.\n",
              "          quickchartButtonEl.classList.add('colab-df-spinner');\n",
              "          try {\n",
              "            const charts = await google.colab.kernel.invokeFunction(\n",
              "                'suggestCharts', [key], {});\n",
              "          } catch (error) {\n",
              "            console.error('Error during call to suggestCharts:', error);\n",
              "          }\n",
              "          quickchartButtonEl.classList.remove('colab-df-spinner');\n",
              "          quickchartButtonEl.classList.add('colab-df-quickchart-complete');\n",
              "        }\n",
              "        (() => {\n",
              "          let quickchartButtonEl =\n",
              "            document.querySelector('#df-8f3a4f33-b806-47f0-9677-25fbcb1b8346 button');\n",
              "          quickchartButtonEl.style.display =\n",
              "            google.colab.kernel.accessAllowed ? 'block' : 'none';\n",
              "        })();\n",
              "      </script>\n",
              "    </div>\n",
              "\n",
              "    </div>\n",
              "  </div>\n"
            ],
            "application/vnd.google.colaboratory.intrinsic+json": {
              "type": "dataframe",
              "variable_name": "ml_review",
              "summary": "{\n  \"name\": \"ml_review\",\n  \"rows\": 12000,\n  \"fields\": [\n    {\n      \"column\": \"Review\",\n      \"properties\": {\n        \"dtype\": \"string\",\n        \"num_unique_values\": 12000,\n        \"samples\": [\n          \"Selama saya bermain Game nya udah bagus gak cuman mode rank sama classic doang tapi ada mode brawl, Mayhem, Custom dan lain lain dan Hero heronya juga enak skill skill nya. Dan juga musuh nya jangan kasih yang skill nya diatas kita tapi setara dengan kita\",\n          \"bagus cuma perbaiki lagi tim nya gk seimbang banget\",\n          \"bagus keren dan bisa mabar tapi minusnya sering ketemu team poke, bot dan, team trol\\ud83d\\ude4f\"\n        ],\n        \"semantic_type\": \"\",\n        \"description\": \"\"\n      }\n    },\n    {\n      \"column\": \"Score\",\n      \"properties\": {\n        \"dtype\": \"number\",\n        \"std\": 1,\n        \"min\": 1,\n        \"max\": 5,\n        \"num_unique_values\": 5,\n        \"samples\": [\n          4,\n          2,\n          3\n        ],\n        \"semantic_type\": \"\",\n        \"description\": \"\"\n      }\n    }\n  ]\n}"
            }
          },
          "metadata": {},
          "execution_count": 8
        }
      ],
      "source": [
        "ml_review.head()"
      ]
    },
    {
      "cell_type": "markdown",
      "metadata": {
        "id": "bMlM5MFmBRXV"
      },
      "source": [
        "#Handling Null and Duplicate Data"
      ]
    },
    {
      "cell_type": "code",
      "execution_count": 9,
      "metadata": {
        "colab": {
          "base_uri": "https://localhost:8080/",
          "height": 147
        },
        "id": "PydciYJuFeUF",
        "outputId": "1da9d7fb-c6f1-4c57-cf22-6b507aad64ee"
      },
      "outputs": [
        {
          "output_type": "execute_result",
          "data": {
            "text/plain": [
              "Review    0\n",
              "Score     0\n",
              "dtype: int64"
            ],
            "text/html": [
              "<div>\n",
              "<style scoped>\n",
              "    .dataframe tbody tr th:only-of-type {\n",
              "        vertical-align: middle;\n",
              "    }\n",
              "\n",
              "    .dataframe tbody tr th {\n",
              "        vertical-align: top;\n",
              "    }\n",
              "\n",
              "    .dataframe thead th {\n",
              "        text-align: right;\n",
              "    }\n",
              "</style>\n",
              "<table border=\"1\" class=\"dataframe\">\n",
              "  <thead>\n",
              "    <tr style=\"text-align: right;\">\n",
              "      <th></th>\n",
              "      <th>0</th>\n",
              "    </tr>\n",
              "  </thead>\n",
              "  <tbody>\n",
              "    <tr>\n",
              "      <th>Review</th>\n",
              "      <td>0</td>\n",
              "    </tr>\n",
              "    <tr>\n",
              "      <th>Score</th>\n",
              "      <td>0</td>\n",
              "    </tr>\n",
              "  </tbody>\n",
              "</table>\n",
              "</div><br><label><b>dtype:</b> int64</label>"
            ]
          },
          "metadata": {},
          "execution_count": 9
        }
      ],
      "source": [
        "ml_review.isnull().sum()"
      ]
    },
    {
      "cell_type": "code",
      "execution_count": 10,
      "metadata": {
        "colab": {
          "base_uri": "https://localhost:8080/"
        },
        "id": "K-30unXmFGNh",
        "outputId": "a55bc7cd-2e27-4d19-bd1b-9b9c81fcc390"
      },
      "outputs": [
        {
          "output_type": "execute_result",
          "data": {
            "text/plain": [
              "np.int64(0)"
            ]
          },
          "metadata": {},
          "execution_count": 10
        }
      ],
      "source": [
        "ml_review.duplicated().sum()"
      ]
    },
    {
      "cell_type": "code",
      "execution_count": 11,
      "metadata": {
        "id": "uUj3_Yxyaucw"
      },
      "outputs": [],
      "source": [
        "clean_df = ml_review.dropna().drop_duplicates()"
      ]
    },
    {
      "cell_type": "code",
      "execution_count": 12,
      "metadata": {
        "colab": {
          "base_uri": "https://localhost:8080/"
        },
        "id": "1EOH8G-9ZWgh",
        "outputId": "b7d6d14a-f7b1-4bf0-e173-1f777f1097ea"
      },
      "outputs": [
        {
          "output_type": "stream",
          "name": "stdout",
          "text": [
            "<class 'pandas.core.frame.DataFrame'>\n",
            "RangeIndex: 12000 entries, 0 to 11999\n",
            "Data columns (total 2 columns):\n",
            " #   Column  Non-Null Count  Dtype \n",
            "---  ------  --------------  ----- \n",
            " 0   Review  12000 non-null  object\n",
            " 1   Score   12000 non-null  int64 \n",
            "dtypes: int64(1), object(1)\n",
            "memory usage: 187.6+ KB\n"
          ]
        }
      ],
      "source": [
        "clean_df.info()"
      ]
    },
    {
      "cell_type": "markdown",
      "metadata": {
        "id": "PNOb9YFflO0Y"
      },
      "source": [
        "# Preprocess\n",
        "\n"
      ]
    },
    {
      "cell_type": "code",
      "execution_count": 13,
      "metadata": {
        "id": "HnAXUIYQjHkN"
      },
      "outputs": [],
      "source": [
        "import re\n",
        "import string\n",
        "from nltk.tokenize import word_tokenize\n",
        "from nltk.corpus import stopwords\n",
        "from Sastrawi.Stemmer.StemmerFactory import StemmerFactory\n",
        "\n",
        "def cleaningText(text):\n",
        "    text = re.sub(r\"http\\S+\", '', text) # menghapus link\n",
        "    text = re.sub(r'[0-9]+', '', text) # menghapus angka\n",
        "    text = re.sub(r'[^\\w\\s]', '', text) # menghapus karakter selain huruf dan angka\n",
        "\n",
        "    text = text.replace('\\n', ' ') # mengganti baris baru dengan spasi\n",
        "    text = text.translate(str.maketrans('', '', string.punctuation)) # menghapus semua tanda baca\n",
        "    text = text.strip(' ') # menghapus karakter spasi dari kiri dan kanan teks\n",
        "    return text\n",
        "\n",
        "def casefoldingText(text): # Mengubah semua karakter dalam teks menjadi huruf kecil\n",
        "    text = text.lower()\n",
        "    return text\n",
        "\n",
        "def tokenizingText(text): # Memecah atau membagi string, teks menjadi daftar token\n",
        "    text = word_tokenize(text)\n",
        "    return text\n",
        "\n",
        "def filteringText(text): # Menghapus stopwords dalam teks\n",
        "    listStopwords = set(stopwords.words('indonesian'))\n",
        "    listStopwords1 = set(stopwords.words('english'))\n",
        "    listStopwords.update(listStopwords1)\n",
        "    listStopwords.update(['iya','yaa','gak','nya','na','sih','ku',\"di\",\"ga\",\"ya\",\"gaa\",\"loh\",\"kah\",\"woi\",\"woii\",\"woy\"])\n",
        "    filtered = []\n",
        "    for txt in text:\n",
        "        if txt not in listStopwords:\n",
        "            filtered.append(txt)\n",
        "    text = filtered\n",
        "    return text\n",
        "\n",
        "def stemmingText(text): # Mengurangi kata ke bentuk dasarnya yang menghilangkan imbuhan awalan dan akhiran atau ke akar kata\n",
        "    factory = StemmerFactory()\n",
        "    stemmer = factory.create_stemmer()\n",
        "    words = text.split()\n",
        "    stemmed_words = [stemmer.stem(word) for word in words]\n",
        "    stemmed_text = ' '.join(stemmed_words)\n",
        "    return stemmed_text\n",
        "\n",
        "def toSentence(list_words):\n",
        "    sentence = ' '.join(word for word in list_words)\n",
        "    return sentence"
      ]
    },
    {
      "cell_type": "code",
      "source": [
        "slangwords = {\n",
        "    \"@\": \"di\",\n",
        "    \"abis\": \"habis\",\n",
        "    \"wtb\": \"beli\",\n",
        "    \"masi\": \"masih\",\n",
        "    \"wts\": \"jual\",\n",
        "    \"wtt\": \"tukar\",\n",
        "    \"bgt\": \"banget\",\n",
        "    \"maks\": \"maksimal\",\n",
        "    \"gws\": \"semoga cepat sembuh\",\n",
        "    \"lol\": \"tertawa keras\",\n",
        "    \"btw\": \"ngomong-ngomong\",\n",
        "    \"cmiiw\": \"correct me if I'm wrong\",\n",
        "    \"oot\": \"out of topic\",\n",
        "    \"brb\": \"segera kembali\",\n",
        "    \"thx\": \"terima kasih\",\n",
        "    \"kuy\": \"yuk\",\n",
        "    \"gokil\": \"gila\",\n",
        "    \"mantul\": \"mantap betul\",\n",
        "    \"kece\": \"keren\",\n",
        "    \"sokap\": \"siapa\",\n",
        "    \"cem\": \"macam\",\n",
        "    \"gabut\": \"gaji buta\",\n",
        "    \"baper\": \"bawa perasaan\",\n",
        "    \"jir\": \"anjir\",\n",
        "    \"cape\": \"capek\",\n",
        "    \"santuy\": \"santai\",\n",
        "    \"gaje\": \"gak jelas\",\n",
        "    \"nongki\": \"nongkrong\",\n",
        "    \"bt\": \"bosan tuch\",\n",
        "    \"skuy\": \"sikat yuk\",\n",
        "    \"dih\": \"sih\",\n",
        "    \"wkwk\": \"tertawa (laughing)\",\n",
        "    \"php\": \"pemberi harapan palsu\",\n",
        "    \"gils\": \"gila\",\n",
        "    \"jomblo\": \"single\",\n",
        "    \"kode\": \"memberi isyarat\",\n",
        "    \"lelet\": \"lambat\",\n",
        "    \"modar\": \"mati\",\n",
        "    \"ngab\": \"bro\",\n",
        "    \"njem\": \"bosan\",\n",
        "    \"ogah\": \"males\",\n",
        "    \"pleg\": \"playgroup\",\n",
        "    \"sotoy\": \"sok tahu\",\n",
        "    \"temen\": \"teman\",\n",
        "    \"uwu\": \"imut\",\n",
        "    \"war\": \"perang (biasanya di game)\",\n",
        "    \"zonk\": \"gagal\",\n",
        "    \"bucin\": \"budak cinta\",\n",
        "    \"cans\": \"cantik\",\n",
        "    \"gans\": \"ganteng\",\n",
        "    \"jem\": \"jam\",\n",
        "    \"kzl\": \"kesal\",\n",
        "    \"maksi\": \"makan siang\",\n",
        "    \"mager\": \"males gerak\",\n",
        "    \"ngg\": \"enggak\",\n",
        "    \"nt\": \"nice try\",\n",
        "    \"panik\": \"panik\",\n",
        "    \"ribet\": \"rumit\",\n",
        "    \"salty\": \"kesal atau jengkel\",\n",
        "    \"sus\": \"susah\",\n",
        "    \"tretan\": \"teman\",\n",
        "    \"vibes\": \"suasana\",\n",
        "    \"ygy\": \"ya gitu yah\",\n",
        "    \"zuzur\": \"jujur\"\n",
        "}\n",
        "\n",
        "def fix_slangwords(text):\n",
        "    words = text.split()\n",
        "    fixed_words = []\n",
        "\n",
        "    for word in words:\n",
        "        if word.lower() in slangwords:\n",
        "            fixed_words.append(slangwords[word.lower()])\n",
        "        else:\n",
        "            fixed_words.append(word)\n",
        "\n",
        "    fixed_text = ' '.join(fixed_words)\n",
        "    return fixed_text"
      ],
      "metadata": {
        "id": "PlIZa43KvLUa"
      },
      "execution_count": 14,
      "outputs": []
    },
    {
      "cell_type": "code",
      "source": [
        "# Membersihkan teks dan menyimpannya di kolom 'text_clean'\n",
        "clean_df['text_clean'] = clean_df['Review'].apply(cleaningText)\n",
        "\n",
        "# Mengubah huruf dalam teks menjadi huruf kecil dan menyimpannya di 'text_casefoldingText'\n",
        "clean_df['text_casefoldingText'] = clean_df['text_clean'].apply(casefoldingText)\n",
        "\n",
        "# Mengganti kata-kata slang dengan kata-kata standar dan menyimpannya di 'text_slangwords'\n",
        "clean_df['text_slangwords'] = clean_df['text_casefoldingText'].apply(fix_slangwords)\n",
        "\n",
        "# Memecah teks menjadi token (kata-kata) dan menyimpannya di 'text_tokenizingText'\n",
        "clean_df['text_tokenizingText'] = clean_df['text_slangwords'].apply(tokenizingText)\n",
        "\n",
        "# Menghapus kata-kata stop (kata-kata umum) dan menyimpannya di 'text_stopword'\n",
        "clean_df['text_stopword'] = clean_df['text_tokenizingText'].apply(filteringText)\n",
        "\n",
        "# Menggabungkan token-token menjadi kalimat dan menyimpannya di 'text_akhir'\n",
        "clean_df['text_akhir'] = clean_df['text_stopword'].apply(toSentence)"
      ],
      "metadata": {
        "id": "YgJXHnVOvN98"
      },
      "execution_count": 15,
      "outputs": []
    },
    {
      "cell_type": "markdown",
      "metadata": {
        "id": "5mButZs9BmJJ"
      },
      "source": [
        "#Labelling"
      ]
    },
    {
      "cell_type": "code",
      "execution_count": 31,
      "metadata": {
        "id": "wRgca5yfjpEp"
      },
      "outputs": [],
      "source": [
        "import pandas as pd\n",
        "\n",
        "emotion_lexicon = {}\n",
        "try:\n",
        "    with open('Indonesian-NRC-EmoLex.txt', 'r', encoding='utf-8') as file:\n",
        "        next(file)\n",
        "        for line in file:\n",
        "            parts = line.strip().split('\\t')\n",
        "            if len(parts) == 12:\n",
        "                indonesian_word = parts[11]\n",
        "                scores = {\n",
        "                    'anger': int(parts[1]),\n",
        "                    'joy': int(parts[5]),\n",
        "                    'negative': int(parts[6]),\n",
        "                    'positive': int(parts[7]),\n",
        "                    'sadness': int(parts[8]),\n",
        "                    'surprise': int(parts[9]),\n",
        "                }\n",
        "                emotion_lexicon[indonesian_word] = scores\n",
        "except FileNotFoundError:\n",
        "    print(\"Error: 'Indonesian-NRC-EmoLex.txt' tidak ditemukan.\")\n",
        "    exit()\n",
        "\n",
        "def analyze_emotion(tokens):\n",
        "    emotion_scores = {\n",
        "        'anger': 0, 'joy': 0, 'negative': 0, 'positive': 0,\n",
        "        'sadness': 0, 'surprise': 0\n",
        "    }\n",
        "    for word in tokens:\n",
        "        if word in emotion_lexicon:\n",
        "            for emotion, score in emotion_lexicon[word].items():\n",
        "                if score == 1:\n",
        "                    emotion_scores[emotion] += 1\n",
        "    return emotion_scores"
      ]
    },
    {
      "cell_type": "code",
      "execution_count": 32,
      "metadata": {
        "id": "UOv82Msxi8y3"
      },
      "outputs": [],
      "source": [
        "emotion_results = clean_df['text_stopword'].apply(analyze_emotion)\n",
        "df_emotion = pd.DataFrame(emotion_results.tolist(), index=clean_df.index)\n",
        "\n",
        "df_final = pd.concat([clean_df, df_emotion], axis=1)"
      ]
    },
    {
      "cell_type": "code",
      "execution_count": 33,
      "metadata": {
        "colab": {
          "base_uri": "https://localhost:8080/",
          "height": 1000
        },
        "id": "wcqzx5OBNvdN",
        "outputId": "80203bd0-b2ba-41f3-f6a2-6eb3602933ba"
      },
      "outputs": [
        {
          "output_type": "execute_result",
          "data": {
            "text/plain": [
              "                                              Review  Score  \\\n",
              "0  Saya merasa sangat kesal ketika sedang bermain...      5   \n",
              "1  Aplikasi macam apa ini,sinyal tidak stabil pad...      5   \n",
              "2  \"Sebenernya Mobile Legends tuh game-nya seru b...      5   \n",
              "3  Haloo min MLBB, sebelumnya mau kasih ulasan ka...      5   \n",
              "4  game nya memang bagus event nya juga menarik t...      5   \n",
              "5  mohon dimudahkan dalam permainan agar mudah me...      5   \n",
              "6  Saya ingin menyampaikan saran terkait fitur ha...      5   \n",
              "7  saat udh menang 3x dikasih dari system, punya ...      4   \n",
              "8  \"MOONTON TOLONG PERBAIKI MLBB\" dari kemarin sa...      5   \n",
              "9  game nya bagus,tapi tolong lah monton jaringan...      5   \n",
              "\n",
              "                                          text_clean  \\\n",
              "0  Saya merasa sangat kesal ketika sedang bermain...   \n",
              "1  Aplikasi macam apa inisinyal tidak stabil pada...   \n",
              "2  Sebenernya Mobile Legends tuh gamenya seru ban...   \n",
              "3  Haloo min MLBB sebelumnya mau kasih ulasan kal...   \n",
              "4  game nya memang bagus event nya juga menarik t...   \n",
              "5  mohon dimudahkan dalam permainan agar mudah me...   \n",
              "6  Saya ingin menyampaikan saran terkait fitur ha...   \n",
              "7  saat udh menang x dikasih dari system punya ti...   \n",
              "8  MOONTON TOLONG PERBAIKI MLBB dari kemarin saya...   \n",
              "9  game nya bagustapi tolong lah monton jaringan ...   \n",
              "\n",
              "                                text_casefoldingText  \\\n",
              "0  saya merasa sangat kesal ketika sedang bermain...   \n",
              "1  aplikasi macam apa inisinyal tidak stabil pada...   \n",
              "2  sebenernya mobile legends tuh gamenya seru ban...   \n",
              "3  haloo min mlbb sebelumnya mau kasih ulasan kal...   \n",
              "4  game nya memang bagus event nya juga menarik t...   \n",
              "5  mohon dimudahkan dalam permainan agar mudah me...   \n",
              "6  saya ingin menyampaikan saran terkait fitur ha...   \n",
              "7  saat udh menang x dikasih dari system punya ti...   \n",
              "8  moonton tolong perbaiki mlbb dari kemarin saya...   \n",
              "9  game nya bagustapi tolong lah monton jaringan ...   \n",
              "\n",
              "                                     text_slangwords  \\\n",
              "0  saya merasa sangat kesal ketika sedang bermain...   \n",
              "1  aplikasi macam apa inisinyal tidak stabil pada...   \n",
              "2  sebenernya mobile legends tuh gamenya seru ban...   \n",
              "3  haloo min mlbb sebelumnya mau kasih ulasan kal...   \n",
              "4  game nya memang bagus event nya juga menarik t...   \n",
              "5  mohon dimudahkan dalam permainan agar mudah me...   \n",
              "6  saya ingin menyampaikan saran terkait fitur ha...   \n",
              "7  saat udh menang x dikasih dari system punya ti...   \n",
              "8  moonton tolong perbaiki mlbb dari kemarin saya...   \n",
              "9  game nya bagustapi tolong lah monton jaringan ...   \n",
              "\n",
              "                                 text_tokenizingText  \\\n",
              "0  [saya, merasa, sangat, kesal, ketika, sedang, ...   \n",
              "1  [aplikasi, macam, apa, inisinyal, tidak, stabi...   \n",
              "2  [sebenernya, mobile, legends, tuh, gamenya, se...   \n",
              "3  [haloo, min, mlbb, sebelumnya, mau, kasih, ula...   \n",
              "4  [game, nya, memang, bagus, event, nya, juga, m...   \n",
              "5  [mohon, dimudahkan, dalam, permainan, agar, mu...   \n",
              "6  [saya, ingin, menyampaikan, saran, terkait, fi...   \n",
              "7  [saat, udh, menang, x, dikasih, dari, system, ...   \n",
              "8  [moonton, tolong, perbaiki, mlbb, dari, kemari...   \n",
              "9  [game, nya, bagustapi, tolong, lah, monton, ja...   \n",
              "\n",
              "                                       text_stopword  \\\n",
              "0  [kesal, bermain, sengaja, terkeluarkan, aplika...   \n",
              "1  [aplikasi, inisinyal, stabil, ping, wifi, bagu...   \n",
              "2  [sebenernya, mobile, legends, tuh, gamenya, se...   \n",
              "3  [haloo, min, mlbb, kasih, ulasan, kalo, gameny...   \n",
              "4  [game, bagus, event, menarik, sayang, mech, ma...   \n",
              "5  [mohon, dimudahkan, permainan, mudah, mencapai...   \n",
              "6  [saran, terkait, fitur, hadiah, kolektor, jura...   \n",
              "7  [udh, menang, x, dikasih, system, tim, acakaca...   \n",
              "8  [moonton, tolong, perbaiki, mlbb, kemarin, log...   \n",
              "9  [game, bagustapi, tolong, monton, jaringan, pe...   \n",
              "\n",
              "                                          text_akhir  anger  joy  negative  \\\n",
              "0  kesal bermain sengaja terkeluarkan aplikasi ma...      0    0         0   \n",
              "1  aplikasi inisinyal stabil ping wifi bagussaya ...      1    0         3   \n",
              "2  sebenernya mobile legends tuh gamenya seru ban...      1    2         1   \n",
              "3  haloo min mlbb kasih ulasan kalo gamenya udah ...      0    2         0   \n",
              "4  game bagus event menarik sayang mech making pl...      1    2         3   \n",
              "5  mohon dimudahkan permainan mudah mencapai rank...      0    1         2   \n",
              "6  saran terkait fitur hadiah kolektor juragan v ...      0    2         3   \n",
              "7  udh menang x dikasih system tim acakacakan mat...      2    2         3   \n",
              "8  moonton tolong perbaiki mlbb kemarin login mat...      1    1         2   \n",
              "9  game bagustapi tolong monton jaringan perbaiki...      1    0         1   \n",
              "\n",
              "   positive  sadness  surprise  \n",
              "0         0        0         0  \n",
              "1         0        1         1  \n",
              "2         2        2         0  \n",
              "3         2        0         2  \n",
              "4         3        3         1  \n",
              "5         5        0         0  \n",
              "6         4        1         2  \n",
              "7         4        0         1  \n",
              "8         3        1         1  \n",
              "9         0        1         0  "
            ],
            "text/html": [
              "\n",
              "  <div id=\"df-d9d93eb9-50d5-46f9-88b6-c153633a374a\" class=\"colab-df-container\">\n",
              "    <div>\n",
              "<style scoped>\n",
              "    .dataframe tbody tr th:only-of-type {\n",
              "        vertical-align: middle;\n",
              "    }\n",
              "\n",
              "    .dataframe tbody tr th {\n",
              "        vertical-align: top;\n",
              "    }\n",
              "\n",
              "    .dataframe thead th {\n",
              "        text-align: right;\n",
              "    }\n",
              "</style>\n",
              "<table border=\"1\" class=\"dataframe\">\n",
              "  <thead>\n",
              "    <tr style=\"text-align: right;\">\n",
              "      <th></th>\n",
              "      <th>Review</th>\n",
              "      <th>Score</th>\n",
              "      <th>text_clean</th>\n",
              "      <th>text_casefoldingText</th>\n",
              "      <th>text_slangwords</th>\n",
              "      <th>text_tokenizingText</th>\n",
              "      <th>text_stopword</th>\n",
              "      <th>text_akhir</th>\n",
              "      <th>anger</th>\n",
              "      <th>joy</th>\n",
              "      <th>negative</th>\n",
              "      <th>positive</th>\n",
              "      <th>sadness</th>\n",
              "      <th>surprise</th>\n",
              "    </tr>\n",
              "  </thead>\n",
              "  <tbody>\n",
              "    <tr>\n",
              "      <th>0</th>\n",
              "      <td>Saya merasa sangat kesal ketika sedang bermain...</td>\n",
              "      <td>5</td>\n",
              "      <td>Saya merasa sangat kesal ketika sedang bermain...</td>\n",
              "      <td>saya merasa sangat kesal ketika sedang bermain...</td>\n",
              "      <td>saya merasa sangat kesal ketika sedang bermain...</td>\n",
              "      <td>[saya, merasa, sangat, kesal, ketika, sedang, ...</td>\n",
              "      <td>[kesal, bermain, sengaja, terkeluarkan, aplika...</td>\n",
              "      <td>kesal bermain sengaja terkeluarkan aplikasi ma...</td>\n",
              "      <td>0</td>\n",
              "      <td>0</td>\n",
              "      <td>0</td>\n",
              "      <td>0</td>\n",
              "      <td>0</td>\n",
              "      <td>0</td>\n",
              "    </tr>\n",
              "    <tr>\n",
              "      <th>1</th>\n",
              "      <td>Aplikasi macam apa ini,sinyal tidak stabil pad...</td>\n",
              "      <td>5</td>\n",
              "      <td>Aplikasi macam apa inisinyal tidak stabil pada...</td>\n",
              "      <td>aplikasi macam apa inisinyal tidak stabil pada...</td>\n",
              "      <td>aplikasi macam apa inisinyal tidak stabil pada...</td>\n",
              "      <td>[aplikasi, macam, apa, inisinyal, tidak, stabi...</td>\n",
              "      <td>[aplikasi, inisinyal, stabil, ping, wifi, bagu...</td>\n",
              "      <td>aplikasi inisinyal stabil ping wifi bagussaya ...</td>\n",
              "      <td>1</td>\n",
              "      <td>0</td>\n",
              "      <td>3</td>\n",
              "      <td>0</td>\n",
              "      <td>1</td>\n",
              "      <td>1</td>\n",
              "    </tr>\n",
              "    <tr>\n",
              "      <th>2</th>\n",
              "      <td>\"Sebenernya Mobile Legends tuh game-nya seru b...</td>\n",
              "      <td>5</td>\n",
              "      <td>Sebenernya Mobile Legends tuh gamenya seru ban...</td>\n",
              "      <td>sebenernya mobile legends tuh gamenya seru ban...</td>\n",
              "      <td>sebenernya mobile legends tuh gamenya seru ban...</td>\n",
              "      <td>[sebenernya, mobile, legends, tuh, gamenya, se...</td>\n",
              "      <td>[sebenernya, mobile, legends, tuh, gamenya, se...</td>\n",
              "      <td>sebenernya mobile legends tuh gamenya seru ban...</td>\n",
              "      <td>1</td>\n",
              "      <td>2</td>\n",
              "      <td>1</td>\n",
              "      <td>2</td>\n",
              "      <td>2</td>\n",
              "      <td>0</td>\n",
              "    </tr>\n",
              "    <tr>\n",
              "      <th>3</th>\n",
              "      <td>Haloo min MLBB, sebelumnya mau kasih ulasan ka...</td>\n",
              "      <td>5</td>\n",
              "      <td>Haloo min MLBB sebelumnya mau kasih ulasan kal...</td>\n",
              "      <td>haloo min mlbb sebelumnya mau kasih ulasan kal...</td>\n",
              "      <td>haloo min mlbb sebelumnya mau kasih ulasan kal...</td>\n",
              "      <td>[haloo, min, mlbb, sebelumnya, mau, kasih, ula...</td>\n",
              "      <td>[haloo, min, mlbb, kasih, ulasan, kalo, gameny...</td>\n",
              "      <td>haloo min mlbb kasih ulasan kalo gamenya udah ...</td>\n",
              "      <td>0</td>\n",
              "      <td>2</td>\n",
              "      <td>0</td>\n",
              "      <td>2</td>\n",
              "      <td>0</td>\n",
              "      <td>2</td>\n",
              "    </tr>\n",
              "    <tr>\n",
              "      <th>4</th>\n",
              "      <td>game nya memang bagus event nya juga menarik t...</td>\n",
              "      <td>5</td>\n",
              "      <td>game nya memang bagus event nya juga menarik t...</td>\n",
              "      <td>game nya memang bagus event nya juga menarik t...</td>\n",
              "      <td>game nya memang bagus event nya juga menarik t...</td>\n",
              "      <td>[game, nya, memang, bagus, event, nya, juga, m...</td>\n",
              "      <td>[game, bagus, event, menarik, sayang, mech, ma...</td>\n",
              "      <td>game bagus event menarik sayang mech making pl...</td>\n",
              "      <td>1</td>\n",
              "      <td>2</td>\n",
              "      <td>3</td>\n",
              "      <td>3</td>\n",
              "      <td>3</td>\n",
              "      <td>1</td>\n",
              "    </tr>\n",
              "    <tr>\n",
              "      <th>5</th>\n",
              "      <td>mohon dimudahkan dalam permainan agar mudah me...</td>\n",
              "      <td>5</td>\n",
              "      <td>mohon dimudahkan dalam permainan agar mudah me...</td>\n",
              "      <td>mohon dimudahkan dalam permainan agar mudah me...</td>\n",
              "      <td>mohon dimudahkan dalam permainan agar mudah me...</td>\n",
              "      <td>[mohon, dimudahkan, dalam, permainan, agar, mu...</td>\n",
              "      <td>[mohon, dimudahkan, permainan, mudah, mencapai...</td>\n",
              "      <td>mohon dimudahkan permainan mudah mencapai rank...</td>\n",
              "      <td>0</td>\n",
              "      <td>1</td>\n",
              "      <td>2</td>\n",
              "      <td>5</td>\n",
              "      <td>0</td>\n",
              "      <td>0</td>\n",
              "    </tr>\n",
              "    <tr>\n",
              "      <th>6</th>\n",
              "      <td>Saya ingin menyampaikan saran terkait fitur ha...</td>\n",
              "      <td>5</td>\n",
              "      <td>Saya ingin menyampaikan saran terkait fitur ha...</td>\n",
              "      <td>saya ingin menyampaikan saran terkait fitur ha...</td>\n",
              "      <td>saya ingin menyampaikan saran terkait fitur ha...</td>\n",
              "      <td>[saya, ingin, menyampaikan, saran, terkait, fi...</td>\n",
              "      <td>[saran, terkait, fitur, hadiah, kolektor, jura...</td>\n",
              "      <td>saran terkait fitur hadiah kolektor juragan v ...</td>\n",
              "      <td>0</td>\n",
              "      <td>2</td>\n",
              "      <td>3</td>\n",
              "      <td>4</td>\n",
              "      <td>1</td>\n",
              "      <td>2</td>\n",
              "    </tr>\n",
              "    <tr>\n",
              "      <th>7</th>\n",
              "      <td>saat udh menang 3x dikasih dari system, punya ...</td>\n",
              "      <td>4</td>\n",
              "      <td>saat udh menang x dikasih dari system punya ti...</td>\n",
              "      <td>saat udh menang x dikasih dari system punya ti...</td>\n",
              "      <td>saat udh menang x dikasih dari system punya ti...</td>\n",
              "      <td>[saat, udh, menang, x, dikasih, dari, system, ...</td>\n",
              "      <td>[udh, menang, x, dikasih, system, tim, acakaca...</td>\n",
              "      <td>udh menang x dikasih system tim acakacakan mat...</td>\n",
              "      <td>2</td>\n",
              "      <td>2</td>\n",
              "      <td>3</td>\n",
              "      <td>4</td>\n",
              "      <td>0</td>\n",
              "      <td>1</td>\n",
              "    </tr>\n",
              "    <tr>\n",
              "      <th>8</th>\n",
              "      <td>\"MOONTON TOLONG PERBAIKI MLBB\" dari kemarin sa...</td>\n",
              "      <td>5</td>\n",
              "      <td>MOONTON TOLONG PERBAIKI MLBB dari kemarin saya...</td>\n",
              "      <td>moonton tolong perbaiki mlbb dari kemarin saya...</td>\n",
              "      <td>moonton tolong perbaiki mlbb dari kemarin saya...</td>\n",
              "      <td>[moonton, tolong, perbaiki, mlbb, dari, kemari...</td>\n",
              "      <td>[moonton, tolong, perbaiki, mlbb, kemarin, log...</td>\n",
              "      <td>moonton tolong perbaiki mlbb kemarin login mat...</td>\n",
              "      <td>1</td>\n",
              "      <td>1</td>\n",
              "      <td>2</td>\n",
              "      <td>3</td>\n",
              "      <td>1</td>\n",
              "      <td>1</td>\n",
              "    </tr>\n",
              "    <tr>\n",
              "      <th>9</th>\n",
              "      <td>game nya bagus,tapi tolong lah monton jaringan...</td>\n",
              "      <td>5</td>\n",
              "      <td>game nya bagustapi tolong lah monton jaringan ...</td>\n",
              "      <td>game nya bagustapi tolong lah monton jaringan ...</td>\n",
              "      <td>game nya bagustapi tolong lah monton jaringan ...</td>\n",
              "      <td>[game, nya, bagustapi, tolong, lah, monton, ja...</td>\n",
              "      <td>[game, bagustapi, tolong, monton, jaringan, pe...</td>\n",
              "      <td>game bagustapi tolong monton jaringan perbaiki...</td>\n",
              "      <td>1</td>\n",
              "      <td>0</td>\n",
              "      <td>1</td>\n",
              "      <td>0</td>\n",
              "      <td>1</td>\n",
              "      <td>0</td>\n",
              "    </tr>\n",
              "  </tbody>\n",
              "</table>\n",
              "</div>\n",
              "    <div class=\"colab-df-buttons\">\n",
              "\n",
              "  <div class=\"colab-df-container\">\n",
              "    <button class=\"colab-df-convert\" onclick=\"convertToInteractive('df-d9d93eb9-50d5-46f9-88b6-c153633a374a')\"\n",
              "            title=\"Convert this dataframe to an interactive table.\"\n",
              "            style=\"display:none;\">\n",
              "\n",
              "  <svg xmlns=\"http://www.w3.org/2000/svg\" height=\"24px\" viewBox=\"0 -960 960 960\">\n",
              "    <path d=\"M120-120v-720h720v720H120Zm60-500h600v-160H180v160Zm220 220h160v-160H400v160Zm0 220h160v-160H400v160ZM180-400h160v-160H180v160Zm440 0h160v-160H620v160ZM180-180h160v-160H180v160Zm440 0h160v-160H620v160Z\"/>\n",
              "  </svg>\n",
              "    </button>\n",
              "\n",
              "  <style>\n",
              "    .colab-df-container {\n",
              "      display:flex;\n",
              "      gap: 12px;\n",
              "    }\n",
              "\n",
              "    .colab-df-convert {\n",
              "      background-color: #E8F0FE;\n",
              "      border: none;\n",
              "      border-radius: 50%;\n",
              "      cursor: pointer;\n",
              "      display: none;\n",
              "      fill: #1967D2;\n",
              "      height: 32px;\n",
              "      padding: 0 0 0 0;\n",
              "      width: 32px;\n",
              "    }\n",
              "\n",
              "    .colab-df-convert:hover {\n",
              "      background-color: #E2EBFA;\n",
              "      box-shadow: 0px 1px 2px rgba(60, 64, 67, 0.3), 0px 1px 3px 1px rgba(60, 64, 67, 0.15);\n",
              "      fill: #174EA6;\n",
              "    }\n",
              "\n",
              "    .colab-df-buttons div {\n",
              "      margin-bottom: 4px;\n",
              "    }\n",
              "\n",
              "    [theme=dark] .colab-df-convert {\n",
              "      background-color: #3B4455;\n",
              "      fill: #D2E3FC;\n",
              "    }\n",
              "\n",
              "    [theme=dark] .colab-df-convert:hover {\n",
              "      background-color: #434B5C;\n",
              "      box-shadow: 0px 1px 3px 1px rgba(0, 0, 0, 0.15);\n",
              "      filter: drop-shadow(0px 1px 2px rgba(0, 0, 0, 0.3));\n",
              "      fill: #FFFFFF;\n",
              "    }\n",
              "  </style>\n",
              "\n",
              "    <script>\n",
              "      const buttonEl =\n",
              "        document.querySelector('#df-d9d93eb9-50d5-46f9-88b6-c153633a374a button.colab-df-convert');\n",
              "      buttonEl.style.display =\n",
              "        google.colab.kernel.accessAllowed ? 'block' : 'none';\n",
              "\n",
              "      async function convertToInteractive(key) {\n",
              "        const element = document.querySelector('#df-d9d93eb9-50d5-46f9-88b6-c153633a374a');\n",
              "        const dataTable =\n",
              "          await google.colab.kernel.invokeFunction('convertToInteractive',\n",
              "                                                    [key], {});\n",
              "        if (!dataTable) return;\n",
              "\n",
              "        const docLinkHtml = 'Like what you see? Visit the ' +\n",
              "          '<a target=\"_blank\" href=https://colab.research.google.com/notebooks/data_table.ipynb>data table notebook</a>'\n",
              "          + ' to learn more about interactive tables.';\n",
              "        element.innerHTML = '';\n",
              "        dataTable['output_type'] = 'display_data';\n",
              "        await google.colab.output.renderOutput(dataTable, element);\n",
              "        const docLink = document.createElement('div');\n",
              "        docLink.innerHTML = docLinkHtml;\n",
              "        element.appendChild(docLink);\n",
              "      }\n",
              "    </script>\n",
              "  </div>\n",
              "\n",
              "\n",
              "    <div id=\"df-cdb80755-961e-414d-b2b9-7c641569236a\">\n",
              "      <button class=\"colab-df-quickchart\" onclick=\"quickchart('df-cdb80755-961e-414d-b2b9-7c641569236a')\"\n",
              "                title=\"Suggest charts\"\n",
              "                style=\"display:none;\">\n",
              "\n",
              "<svg xmlns=\"http://www.w3.org/2000/svg\" height=\"24px\"viewBox=\"0 0 24 24\"\n",
              "     width=\"24px\">\n",
              "    <g>\n",
              "        <path d=\"M19 3H5c-1.1 0-2 .9-2 2v14c0 1.1.9 2 2 2h14c1.1 0 2-.9 2-2V5c0-1.1-.9-2-2-2zM9 17H7v-7h2v7zm4 0h-2V7h2v10zm4 0h-2v-4h2v4z\"/>\n",
              "    </g>\n",
              "</svg>\n",
              "      </button>\n",
              "\n",
              "<style>\n",
              "  .colab-df-quickchart {\n",
              "      --bg-color: #E8F0FE;\n",
              "      --fill-color: #1967D2;\n",
              "      --hover-bg-color: #E2EBFA;\n",
              "      --hover-fill-color: #174EA6;\n",
              "      --disabled-fill-color: #AAA;\n",
              "      --disabled-bg-color: #DDD;\n",
              "  }\n",
              "\n",
              "  [theme=dark] .colab-df-quickchart {\n",
              "      --bg-color: #3B4455;\n",
              "      --fill-color: #D2E3FC;\n",
              "      --hover-bg-color: #434B5C;\n",
              "      --hover-fill-color: #FFFFFF;\n",
              "      --disabled-bg-color: #3B4455;\n",
              "      --disabled-fill-color: #666;\n",
              "  }\n",
              "\n",
              "  .colab-df-quickchart {\n",
              "    background-color: var(--bg-color);\n",
              "    border: none;\n",
              "    border-radius: 50%;\n",
              "    cursor: pointer;\n",
              "    display: none;\n",
              "    fill: var(--fill-color);\n",
              "    height: 32px;\n",
              "    padding: 0;\n",
              "    width: 32px;\n",
              "  }\n",
              "\n",
              "  .colab-df-quickchart:hover {\n",
              "    background-color: var(--hover-bg-color);\n",
              "    box-shadow: 0 1px 2px rgba(60, 64, 67, 0.3), 0 1px 3px 1px rgba(60, 64, 67, 0.15);\n",
              "    fill: var(--button-hover-fill-color);\n",
              "  }\n",
              "\n",
              "  .colab-df-quickchart-complete:disabled,\n",
              "  .colab-df-quickchart-complete:disabled:hover {\n",
              "    background-color: var(--disabled-bg-color);\n",
              "    fill: var(--disabled-fill-color);\n",
              "    box-shadow: none;\n",
              "  }\n",
              "\n",
              "  .colab-df-spinner {\n",
              "    border: 2px solid var(--fill-color);\n",
              "    border-color: transparent;\n",
              "    border-bottom-color: var(--fill-color);\n",
              "    animation:\n",
              "      spin 1s steps(1) infinite;\n",
              "  }\n",
              "\n",
              "  @keyframes spin {\n",
              "    0% {\n",
              "      border-color: transparent;\n",
              "      border-bottom-color: var(--fill-color);\n",
              "      border-left-color: var(--fill-color);\n",
              "    }\n",
              "    20% {\n",
              "      border-color: transparent;\n",
              "      border-left-color: var(--fill-color);\n",
              "      border-top-color: var(--fill-color);\n",
              "    }\n",
              "    30% {\n",
              "      border-color: transparent;\n",
              "      border-left-color: var(--fill-color);\n",
              "      border-top-color: var(--fill-color);\n",
              "      border-right-color: var(--fill-color);\n",
              "    }\n",
              "    40% {\n",
              "      border-color: transparent;\n",
              "      border-right-color: var(--fill-color);\n",
              "      border-top-color: var(--fill-color);\n",
              "    }\n",
              "    60% {\n",
              "      border-color: transparent;\n",
              "      border-right-color: var(--fill-color);\n",
              "    }\n",
              "    80% {\n",
              "      border-color: transparent;\n",
              "      border-right-color: var(--fill-color);\n",
              "      border-bottom-color: var(--fill-color);\n",
              "    }\n",
              "    90% {\n",
              "      border-color: transparent;\n",
              "      border-bottom-color: var(--fill-color);\n",
              "    }\n",
              "  }\n",
              "</style>\n",
              "\n",
              "      <script>\n",
              "        async function quickchart(key) {\n",
              "          const quickchartButtonEl =\n",
              "            document.querySelector('#' + key + ' button');\n",
              "          quickchartButtonEl.disabled = true;  // To prevent multiple clicks.\n",
              "          quickchartButtonEl.classList.add('colab-df-spinner');\n",
              "          try {\n",
              "            const charts = await google.colab.kernel.invokeFunction(\n",
              "                'suggestCharts', [key], {});\n",
              "          } catch (error) {\n",
              "            console.error('Error during call to suggestCharts:', error);\n",
              "          }\n",
              "          quickchartButtonEl.classList.remove('colab-df-spinner');\n",
              "          quickchartButtonEl.classList.add('colab-df-quickchart-complete');\n",
              "        }\n",
              "        (() => {\n",
              "          let quickchartButtonEl =\n",
              "            document.querySelector('#df-cdb80755-961e-414d-b2b9-7c641569236a button');\n",
              "          quickchartButtonEl.style.display =\n",
              "            google.colab.kernel.accessAllowed ? 'block' : 'none';\n",
              "        })();\n",
              "      </script>\n",
              "    </div>\n",
              "\n",
              "    </div>\n",
              "  </div>\n"
            ],
            "application/vnd.google.colaboratory.intrinsic+json": {
              "type": "dataframe",
              "variable_name": "df_final",
              "summary": "{\n  \"name\": \"df_final\",\n  \"rows\": 12000,\n  \"fields\": [\n    {\n      \"column\": \"Review\",\n      \"properties\": {\n        \"dtype\": \"string\",\n        \"num_unique_values\": 12000,\n        \"samples\": [\n          \"Selama saya bermain Game nya udah bagus gak cuman mode rank sama classic doang tapi ada mode brawl, Mayhem, Custom dan lain lain dan Hero heronya juga enak skill skill nya. Dan juga musuh nya jangan kasih yang skill nya diatas kita tapi setara dengan kita\",\n          \"bagus cuma perbaiki lagi tim nya gk seimbang banget\",\n          \"bagus keren dan bisa mabar tapi minusnya sering ketemu team poke, bot dan, team trol\\ud83d\\ude4f\"\n        ],\n        \"semantic_type\": \"\",\n        \"description\": \"\"\n      }\n    },\n    {\n      \"column\": \"Score\",\n      \"properties\": {\n        \"dtype\": \"number\",\n        \"std\": 1,\n        \"min\": 1,\n        \"max\": 5,\n        \"num_unique_values\": 5,\n        \"samples\": [\n          4,\n          2,\n          3\n        ],\n        \"semantic_type\": \"\",\n        \"description\": \"\"\n      }\n    },\n    {\n      \"column\": \"text_clean\",\n      \"properties\": {\n        \"dtype\": \"string\",\n        \"num_unique_values\": 12000,\n        \"samples\": [\n          \"Selama saya bermain Game nya udah bagus gak cuman mode rank sama classic doang tapi ada mode brawl Mayhem Custom dan lain lain dan Hero heronya juga enak skill skill nya Dan juga musuh nya jangan kasih yang skill nya diatas kita tapi setara dengan kita\",\n          \"bagus cuma perbaiki lagi tim nya gk seimbang banget\",\n          \"bagus keren dan bisa mabar tapi minusnya sering ketemu team poke bot dan team trol\"\n        ],\n        \"semantic_type\": \"\",\n        \"description\": \"\"\n      }\n    },\n    {\n      \"column\": \"text_casefoldingText\",\n      \"properties\": {\n        \"dtype\": \"string\",\n        \"num_unique_values\": 12000,\n        \"samples\": [\n          \"selama saya bermain game nya udah bagus gak cuman mode rank sama classic doang tapi ada mode brawl mayhem custom dan lain lain dan hero heronya juga enak skill skill nya dan juga musuh nya jangan kasih yang skill nya diatas kita tapi setara dengan kita\",\n          \"bagus cuma perbaiki lagi tim nya gk seimbang banget\",\n          \"bagus keren dan bisa mabar tapi minusnya sering ketemu team poke bot dan team trol\"\n        ],\n        \"semantic_type\": \"\",\n        \"description\": \"\"\n      }\n    },\n    {\n      \"column\": \"text_slangwords\",\n      \"properties\": {\n        \"dtype\": \"string\",\n        \"num_unique_values\": 11999,\n        \"samples\": [\n          \"selama saya bermain game nya udah bagus gak cuman mode rank sama classic doang tapi ada mode brawl mayhem custom dan lain lain dan hero heronya juga enak skill skill nya dan juga musuh nya jangan kasih yang skill nya diatas kita tapi setara dengan kita\",\n          \"bagus cuma perbaiki lagi tim nya gk seimbang banget\",\n          \"bagus keren dan bisa mabar tapi minusnya sering ketemu team poke bot dan team trol\"\n        ],\n        \"semantic_type\": \"\",\n        \"description\": \"\"\n      }\n    },\n    {\n      \"column\": \"text_tokenizingText\",\n      \"properties\": {\n        \"dtype\": \"object\",\n        \"semantic_type\": \"\",\n        \"description\": \"\"\n      }\n    },\n    {\n      \"column\": \"text_stopword\",\n      \"properties\": {\n        \"dtype\": \"object\",\n        \"semantic_type\": \"\",\n        \"description\": \"\"\n      }\n    },\n    {\n      \"column\": \"text_akhir\",\n      \"properties\": {\n        \"dtype\": \"string\",\n        \"num_unique_values\": 11998,\n        \"samples\": [\n          \"udah bagus cuman emg kekurangan bug udh aja selebihnya udh oke\",\n          \"ngelag sinyal bangus udahan gamenya berat mohon perbaiki sinyalnya\",\n          \"game bagus tpi kebanyakan main anakyang mainnub ayolah sekolah tim\"\n        ],\n        \"semantic_type\": \"\",\n        \"description\": \"\"\n      }\n    },\n    {\n      \"column\": \"anger\",\n      \"properties\": {\n        \"dtype\": \"number\",\n        \"std\": 0,\n        \"min\": 0,\n        \"max\": 12,\n        \"num_unique_values\": 10,\n        \"samples\": [\n          7,\n          1,\n          3\n        ],\n        \"semantic_type\": \"\",\n        \"description\": \"\"\n      }\n    },\n    {\n      \"column\": \"joy\",\n      \"properties\": {\n        \"dtype\": \"number\",\n        \"std\": 1,\n        \"min\": 0,\n        \"max\": 10,\n        \"num_unique_values\": 11,\n        \"samples\": [\n          5,\n          0,\n          10\n        ],\n        \"semantic_type\": \"\",\n        \"description\": \"\"\n      }\n    },\n    {\n      \"column\": \"negative\",\n      \"properties\": {\n        \"dtype\": \"number\",\n        \"std\": 1,\n        \"min\": 0,\n        \"max\": 12,\n        \"num_unique_values\": 12,\n        \"samples\": [\n          11,\n          9,\n          0\n        ],\n        \"semantic_type\": \"\",\n        \"description\": \"\"\n      }\n    },\n    {\n      \"column\": \"positive\",\n      \"properties\": {\n        \"dtype\": \"number\",\n        \"std\": 1,\n        \"min\": 0,\n        \"max\": 11,\n        \"num_unique_values\": 12,\n        \"samples\": [\n          11,\n          8,\n          0\n        ],\n        \"semantic_type\": \"\",\n        \"description\": \"\"\n      }\n    },\n    {\n      \"column\": \"sadness\",\n      \"properties\": {\n        \"dtype\": \"number\",\n        \"std\": 0,\n        \"min\": 0,\n        \"max\": 14,\n        \"num_unique_values\": 10,\n        \"samples\": [\n          14,\n          1,\n          4\n        ],\n        \"semantic_type\": \"\",\n        \"description\": \"\"\n      }\n    },\n    {\n      \"column\": \"surprise\",\n      \"properties\": {\n        \"dtype\": \"number\",\n        \"std\": 0,\n        \"min\": 0,\n        \"max\": 11,\n        \"num_unique_values\": 10,\n        \"samples\": [\n          11,\n          1,\n          5\n        ],\n        \"semantic_type\": \"\",\n        \"description\": \"\"\n      }\n    }\n  ]\n}"
            }
          },
          "metadata": {},
          "execution_count": 33
        }
      ],
      "source": [
        "df_final.head(10)"
      ]
    },
    {
      "cell_type": "code",
      "execution_count": 35,
      "metadata": {
        "colab": {
          "base_uri": "https://localhost:8080/"
        },
        "id": "npuOMmOzkgvQ",
        "outputId": "09a60ca9-957f-4a77-950e-d8dc315bab84"
      },
      "outputs": [
        {
          "output_type": "stream",
          "name": "stdout",
          "text": [
            "                                              Review dominant_emotion\n",
            "0  Saya merasa sangat kesal ketika sedang bermain...           netral\n",
            "1  Aplikasi macam apa ini,sinyal tidak stabil pad...            anger\n",
            "2  \"Sebenernya Mobile Legends tuh game-nya seru b...              joy\n",
            "3  Haloo min MLBB, sebelumnya mau kasih ulasan ka...              joy\n",
            "4  game nya memang bagus event nya juga menarik t...          sadness\n"
          ]
        }
      ],
      "source": [
        "def get_dominant_emotion_single(row):\n",
        "    emotion_scores = {\n",
        "        'anger': row['anger'],\n",
        "        'joy': row['joy'],\n",
        "        'sadness': row['sadness'],\n",
        "        'surprise': row['surprise']\n",
        "    }\n",
        "\n",
        "    max_score = max(emotion_scores.values())\n",
        "\n",
        "    if max_score == 0:\n",
        "        return 'netral'\n",
        "\n",
        "    dominant_emotions = [\n",
        "        emotion for emotion, score in emotion_scores.items() if score == max_score\n",
        "    ]\n",
        "\n",
        "    return dominant_emotions[0]\n",
        "\n",
        "df_final['dominant_emotion'] = df_emotion.apply(get_dominant_emotion_single, axis=1)\n",
        "print(df_final[['Review', 'dominant_emotion']].head())"
      ]
    },
    {
      "cell_type": "markdown",
      "metadata": {
        "id": "5BYZ-bODZQ6J"
      },
      "source": [
        "# EDA"
      ]
    },
    {
      "cell_type": "code",
      "execution_count": 36,
      "metadata": {
        "colab": {
          "base_uri": "https://localhost:8080/",
          "height": 393
        },
        "id": "_33FVLHsQBwb",
        "outputId": "77577d58-e786-476c-acfb-4c77e147dff0"
      },
      "outputs": [
        {
          "output_type": "display_data",
          "data": {
            "text/plain": [
              "<Figure size 1000x500 with 1 Axes>"
            ],
            "image/png": "[encoded data removed]"
          },
          "metadata": {}
        }
      ],
      "source": [
        "all_words = ' '.join([' '.join(tokens) for tokens in df_final['text_stopword']])\n",
        "\n",
        "wordcloud_all = WordCloud(width=800,\n",
        "                          height=400,\n",
        "                          background_color='white',\n",
        "                          colormap='plasma',\n",
        "                          min_font_size=10).generate(all_words)\n",
        "\n",
        "plt.figure(figsize=(10, 5))\n",
        "plt.imshow(wordcloud_all, interpolation='bilinear')\n",
        "plt.axis('off')\n",
        "plt.title('Word Cloud dari Seluruh Ulasan', fontsize=16)\n",
        "plt.show()"
      ]
    },
    {
      "cell_type": "markdown",
      "metadata": {
        "id": "2_KcKK3Sb2AZ"
      },
      "source": [
        "# Splitting Data"
      ]
    },
    {
      "cell_type": "code",
      "execution_count": 37,
      "metadata": {
        "colab": {
          "base_uri": "https://localhost:8080/"
        },
        "id": "vIo8r91nmN-3",
        "outputId": "80a83ee2-f8f8-44a0-a428-8bcbefb3ace9"
      },
      "outputs": [
        {
          "output_type": "stream",
          "name": "stdout",
          "text": [
            "Jumlah data latih: 9600\n",
            "Jumlah data uji: 2400\n"
          ]
        }
      ],
      "source": [
        "from sklearn.feature_extraction.text import TfidfVectorizer\n",
        "from sklearn.model_selection import train_test_split\n",
        "\n",
        "X = df_final['text_akhir']\n",
        "y = df_final['dominant_emotion']\n",
        "\n",
        "X_train, X_test, y_train, y_test = train_test_split(\n",
        "    X,\n",
        "    y,\n",
        "    test_size=0.2,\n",
        "    random_state=100,\n",
        "    stratify=y\n",
        ")\n",
        "\n",
        "print(\"Jumlah data latih:\", len(X_train))\n",
        "print(\"Jumlah data uji:\", len(X_test))"
      ]
    },
    {
      "cell_type": "markdown",
      "metadata": {
        "id": "s8hZipXFajye"
      },
      "source": [
        "# Ekstraksi Fitur (TF-IDF)"
      ]
    },
    {
      "cell_type": "code",
      "execution_count": 38,
      "metadata": {
        "colab": {
          "base_uri": "https://localhost:8080/"
        },
        "id": "3gfNtwCpbvPf",
        "outputId": "d145548c-ed45-4f50-9ba4-822d724c617f"
      },
      "outputs": [
        {
          "output_type": "stream",
          "name": "stdout",
          "text": [
            "\n",
            "--- Setelah Ekstraksi Fitur TF-IDF ---\n",
            "Dimensi matriks data latih: (9600, 5000)\n",
            "Dimensi matriks data uji: (2400, 5000)\n"
          ]
        }
      ],
      "source": [
        "tfidf = TfidfVectorizer(ngram_range=(1, 2), max_features=5000)\n",
        "\n",
        "X_train_tfidf = tfidf.fit_transform(X_train)\n",
        "\n",
        "X_test_tfidf = tfidf.transform(X_test)\n",
        "\n",
        "print(\"\\n--- Setelah Ekstraksi Fitur TF-IDF ---\")\n",
        "print(\"Dimensi matriks data latih:\", X_train_tfidf.shape)\n",
        "print(\"Dimensi matriks data uji:\", X_test_tfidf.shape)"
      ]
    },
    {
      "cell_type": "markdown",
      "metadata": {
        "id": "u3G8wro3dfSx"
      },
      "source": [
        "# Modelling"
      ]
    },
    {
      "cell_type": "code",
      "source": [
        "from sklearn.metrics import classification_report, accuracy_score\n",
        "\n",
        "accuracy_summary = {}"
      ],
      "metadata": {
        "id": "ox0oqsF92JUk"
      },
      "execution_count": 45,
      "outputs": []
    },
    {
      "cell_type": "markdown",
      "metadata": {
        "id": "FnaGTbHAdh6f"
      },
      "source": [
        "## Naive Bayes"
      ]
    },
    {
      "cell_type": "code",
      "source": [
        "from sklearn.naive_bayes import BernoulliNB\n",
        "\n",
        "# Inisialisasi model Naive Bayes (Bernoulli Naive Bayes cocok untuk data TF-IDF)\n",
        "model_nb = BernoulliNB()\n",
        "\n",
        "# Melatih model\n",
        "model_nb.fit(X_train_tfidf, y_train)\n",
        "\n",
        "# Memprediksi pada data uji\n",
        "y_pred_nb = model_nb.predict(X_test_tfidf)\n",
        "\n",
        "# Naive Bayes\n",
        "y_train_pred_nb = model_nb.predict(X_train_tfidf)\n",
        "accuracy_summary['Naive Bayes'] = {\n",
        "    'Train Accuracy': accuracy_score(y_train, y_train_pred_nb),\n",
        "    'Test Accuracy': accuracy_score(y_test, y_pred_nb)\n",
        "}\n",
        "\n",
        "# Evaluasi model\n",
        "print(\"--- Naive Bayes Model Evaluation ---\")\n",
        "print(classification_report(y_test, y_pred_nb))\n",
        "print(\"Accuracy:\", accuracy_score(y_test, y_pred_nb))"
      ],
      "metadata": {
        "colab": {
          "base_uri": "https://localhost:8080/"
        },
        "id": "_p_XYsSgyMOx",
        "outputId": "a4e6fc6d-aee4-4534-9155-21c8a331db12"
      },
      "execution_count": 46,
      "outputs": [
        {
          "output_type": "stream",
          "name": "stdout",
          "text": [
            "--- Naive Bayes Model Evaluation ---\n",
            "              precision    recall  f1-score   support\n",
            "\n",
            "       anger       0.72      0.73      0.72       779\n",
            "         joy       0.75      0.82      0.78       901\n",
            "      netral       0.79      0.79      0.79       520\n",
            "     sadness       0.45      0.23      0.30       131\n",
            "    surprise       0.26      0.12      0.16        69\n",
            "\n",
            "    accuracy                           0.73      2400\n",
            "   macro avg       0.59      0.54      0.55      2400\n",
            "weighted avg       0.72      0.73      0.72      2400\n",
            "\n",
            "Accuracy: 0.7316666666666667\n"
          ]
        }
      ]
    },
    {
      "cell_type": "markdown",
      "metadata": {
        "id": "9fkG2HhWdpgd"
      },
      "source": [
        "## Random Forest"
      ]
    },
    {
      "cell_type": "code",
      "source": [
        "from sklearn.ensemble import RandomForestClassifier\n",
        "\n",
        "# Inisialisasi model Random Forest\n",
        "model_rf = RandomForestClassifier(random_state=seed)\n",
        "\n",
        "# Melatih model\n",
        "model_rf.fit(X_train_tfidf, y_train)\n",
        "\n",
        "# Memprediksi pada data uji\n",
        "y_pred_rf = model_rf.predict(X_test_tfidf)\n",
        "\n",
        "# Random Forest\n",
        "y_train_pred_rf = model_rf.predict(X_train_tfidf)\n",
        "accuracy_summary['Random Forest'] = {\n",
        "    'Train Accuracy': accuracy_score(y_train, y_train_pred_rf),\n",
        "    'Test Accuracy': accuracy_score(y_test, y_pred_rf)\n",
        "}\n",
        "\n",
        "# Evaluasi model\n",
        "print(\"---Random Forest Model Evaluation ---\")\n",
        "print(classification_report(y_test, y_pred_rf))\n",
        "print(\"Accuracy:\", accuracy_score(y_test, y_pred_rf))"
      ],
      "metadata": {
        "colab": {
          "base_uri": "https://localhost:8080/"
        },
        "id": "2-7ri00dyVqa",
        "outputId": "1e6be03a-644d-4055-cb13-446d1108a5a6"
      },
      "execution_count": 47,
      "outputs": [
        {
          "output_type": "stream",
          "name": "stdout",
          "text": [
            "---Random Forest Model Evaluation ---\n",
            "              precision    recall  f1-score   support\n",
            "\n",
            "       anger       0.85      0.84      0.85       779\n",
            "         joy       0.88      0.89      0.89       901\n",
            "      netral       0.80      0.99      0.88       520\n",
            "     sadness       0.83      0.30      0.44       131\n",
            "    surprise       0.90      0.41      0.56        69\n",
            "\n",
            "    accuracy                           0.85      2400\n",
            "   macro avg       0.85      0.68      0.72      2400\n",
            "weighted avg       0.85      0.85      0.84      2400\n",
            "\n",
            "Accuracy: 0.84875\n"
          ]
        }
      ]
    },
    {
      "cell_type": "markdown",
      "metadata": {
        "id": "qw-D6zZbdx5W"
      },
      "source": [
        "## XGBoost"
      ]
    },
    {
      "cell_type": "code",
      "source": [
        "import xgboost as xgb\n",
        "from sklearn.preprocessing import LabelEncoder\n",
        "\n",
        "le = LabelEncoder()\n",
        "y_train_encoded = le.fit_transform(y_train)\n",
        "y_test_encoded = le.transform(y_test)\n",
        "\n",
        "model_xgb_encoded = xgb.XGBClassifier(objective='multi:softmax', num_class=len(le.classes_), random_state=seed)\n",
        "model_xgb_encoded.fit(X_train_tfidf, y_train_encoded)\n",
        "\n",
        "y_train_pred_xgb_encoded = model_xgb_encoded.predict(X_train_tfidf)\n",
        "y_pred_xgb_encoded = model_xgb_encoded.predict(X_test_tfidf)\n",
        "\n",
        "accuracy_summary['XGBoost'] = {\n",
        "    'Train Accuracy': accuracy_score(y_train_encoded, y_train_pred_xgb_encoded),\n",
        "    'Test Accuracy': accuracy_score(y_test_encoded, y_pred_xgb_encoded)\n",
        "}\n",
        "\n",
        "print(\"--- XGBoost Model Evaluation ---\")\n",
        "print(classification_report(y_test_encoded, y_pred_xgb_encoded))\n",
        "print(\"Accuracy:\", accuracy_score(y_test_encoded, y_pred_xgb_encoded))"
      ],
      "metadata": {
        "colab": {
          "base_uri": "https://localhost:8080/"
        },
        "id": "EX2rECgiyaW6",
        "outputId": "4f6cef72-450a-42b8-f14e-88f1a401bb73"
      },
      "execution_count": 48,
      "outputs": [
        {
          "output_type": "stream",
          "name": "stdout",
          "text": [
            "--- XGBoost Model Evaluation ---\n",
            "              precision    recall  f1-score   support\n",
            "\n",
            "           0       0.92      0.90      0.91       779\n",
            "           1       0.95      0.92      0.93       901\n",
            "           2       0.86      1.00      0.92       520\n",
            "           3       0.86      0.61      0.71       131\n",
            "           4       0.82      0.78      0.80        69\n",
            "\n",
            "    accuracy                           0.91      2400\n",
            "   macro avg       0.88      0.84      0.86      2400\n",
            "weighted avg       0.91      0.91      0.91      2400\n",
            "\n",
            "Accuracy: 0.9079166666666667\n"
          ]
        }
      ]
    },
    {
      "cell_type": "markdown",
      "metadata": {
        "id": "DzUGXeZRd2sx"
      },
      "source": [
        "## Logistic Regression"
      ]
    },
    {
      "cell_type": "code",
      "source": [
        "from sklearn.linear_model import LogisticRegression\n",
        "\n",
        "# Inisialisasi model Logistic Regression\n",
        "model_lr = LogisticRegression(random_state=seed, max_iter=1000)\n",
        "\n",
        "# Melatih model\n",
        "model_lr.fit(X_train_tfidf, y_train)\n",
        "\n",
        "# Memprediksi pada data uji\n",
        "y_pred_lr = model_lr.predict(X_test_tfidf)\n",
        "\n",
        "# Logistic Regression\n",
        "y_train_pred_lr = model_lr.predict(X_train_tfidf)\n",
        "accuracy_summary['Logistic Regression'] = {\n",
        "    'Train Accuracy': accuracy_score(y_train, y_train_pred_lr),\n",
        "    'Test Accuracy': accuracy_score(y_test, y_pred_lr)\n",
        "}\n",
        "\n",
        "# Evaluasi model\n",
        "print(\"--- Logistic Regression Model Evaluation ---\")\n",
        "print(classification_report(y_test, y_pred_lr))\n",
        "print(\"Accuracy:\", accuracy_score(y_test, y_pred_lr))"
      ],
      "metadata": {
        "colab": {
          "base_uri": "https://localhost:8080/"
        },
        "id": "7Rh5SN1oygP0",
        "outputId": "7fed2ceb-a065-4ef7-87bc-88d6ce0f7e85"
      },
      "execution_count": 49,
      "outputs": [
        {
          "output_type": "stream",
          "name": "stdout",
          "text": [
            "--- Logistic Regression Model Evaluation ---\n",
            "              precision    recall  f1-score   support\n",
            "\n",
            "       anger       0.86      0.85      0.86       779\n",
            "         joy       0.89      0.92      0.91       901\n",
            "      netral       0.77      0.93      0.84       520\n",
            "     sadness       0.88      0.27      0.42       131\n",
            "    surprise       0.96      0.32      0.48        69\n",
            "\n",
            "    accuracy                           0.85      2400\n",
            "   macro avg       0.87      0.66      0.70      2400\n",
            "weighted avg       0.86      0.85      0.84      2400\n",
            "\n",
            "Accuracy: 0.85\n"
          ]
        }
      ]
    },
    {
      "cell_type": "markdown",
      "metadata": {
        "id": "Oi3Fs8Ubd77C"
      },
      "source": [
        "## Decision Tree"
      ]
    },
    {
      "cell_type": "code",
      "source": [
        "from sklearn.tree import DecisionTreeClassifier\n",
        "\n",
        "# Inisialisasi model Decision Tree\n",
        "model_dt = DecisionTreeClassifier(random_state=seed)\n",
        "\n",
        "# Melatih model\n",
        "model_dt.fit(X_train_tfidf, y_train)\n",
        "\n",
        "# Memprediksi pada data uji\n",
        "y_pred_dt = model_dt.predict(X_test_tfidf)\n",
        "\n",
        "# Decision Tree\n",
        "y_train_pred_dt = model_dt.predict(X_train_tfidf)\n",
        "accuracy_summary['Decision Tree'] = {\n",
        "    'Train Accuracy': accuracy_score(y_train, y_train_pred_dt),\n",
        "    'Test Accuracy': accuracy_score(y_test, y_pred_dt)\n",
        "}\n",
        "\n",
        "# Evaluasi model\n",
        "print(\"--- Decision Tree Model Evaluation ---\")\n",
        "print(classification_report(y_test, y_pred_dt))\n",
        "print(\"Accuracy:\", accuracy_score(y_test, y_pred_dt))"
      ],
      "metadata": {
        "colab": {
          "base_uri": "https://localhost:8080/"
        },
        "id": "xgd8zGtwylUE",
        "outputId": "fb4d292f-0e2d-4970-fe0d-b930638d66c2"
      },
      "execution_count": 50,
      "outputs": [
        {
          "output_type": "stream",
          "name": "stdout",
          "text": [
            "--- Decision Tree Model Evaluation ---\n",
            "              precision    recall  f1-score   support\n",
            "\n",
            "       anger       0.85      0.86      0.85       779\n",
            "         joy       0.90      0.88      0.89       901\n",
            "      netral       0.93      0.97      0.95       520\n",
            "     sadness       0.67      0.60      0.63       131\n",
            "    surprise       0.72      0.74      0.73        69\n",
            "\n",
            "    accuracy                           0.87      2400\n",
            "   macro avg       0.81      0.81      0.81      2400\n",
            "weighted avg       0.87      0.87      0.87      2400\n",
            "\n",
            "Accuracy: 0.8725\n"
          ]
        }
      ]
    },
    {
      "cell_type": "code",
      "source": [
        "print(\"--- Model Accuracy Summary ---\")\n",
        "for model_name, accuracies in accuracy_summary.items():\n",
        "    print(f\"{model_name}:\")\n",
        "    print(f\"  Train Accuracy: {accuracies['Train Accuracy']:.4f}\")\n",
        "    print(f\"  Test Accuracy: {accuracies['Test Accuracy']:.4f}\")\n",
        "    print(\"-\" * 20)"
      ],
      "metadata": {
        "colab": {
          "base_uri": "https://localhost:8080/"
        },
        "id": "pE9xBQa30HOm",
        "outputId": "b6f0c948-31cb-40db-e7fe-7829649e8ece"
      },
      "execution_count": 51,
      "outputs": [
        {
          "output_type": "stream",
          "name": "stdout",
          "text": [
            "--- Model Accuracy Summary ---\n",
            "Naive Bayes:\n",
            "  Train Accuracy: 0.8260\n",
            "  Test Accuracy: 0.7317\n",
            "--------------------\n",
            "Random Forest:\n",
            "  Train Accuracy: 1.0000\n",
            "  Test Accuracy: 0.8488\n",
            "--------------------\n",
            "XGBoost:\n",
            "  Train Accuracy: 0.9761\n",
            "  Test Accuracy: 0.9079\n",
            "--------------------\n",
            "Logistic Regression:\n",
            "  Train Accuracy: 0.9215\n",
            "  Test Accuracy: 0.8500\n",
            "--------------------\n",
            "Decision Tree:\n",
            "  Train Accuracy: 1.0000\n",
            "  Test Accuracy: 0.8725\n",
            "--------------------\n"
          ]
        }
      ]
    },
    {
      "cell_type": "markdown",
      "source": [
        "# Testing Model"
      ],
      "metadata": {
        "id": "CIlYrNf654oa"
      }
    },
    {
      "cell_type": "code",
      "source": [
        "best_model = model_xgb_encoded\n",
        "\n",
        "def preprocess_new_text(text):\n",
        "    text = cleaningText(text)\n",
        "    text = casefoldingText(text)\n",
        "    text = fix_slangwords(text)\n",
        "    text = tokenizingText(text)\n",
        "    text = filteringText(text)\n",
        "    text = toSentence(text)\n",
        "    return text\n",
        "\n",
        "def predict_emotion(text, model, tfidf_vectorizer, label_encoder):\n",
        "    preprocessed_text = preprocess_new_text(text)\n",
        "    text_tfidf = tfidf_vectorizer.transform([preprocessed_text])\n",
        "    prediction_encoded = model.predict(text_tfidf)\n",
        "    predicted_label = label_encoder.inverse_transform(prediction_encoded)\n",
        "    return predicted_label[0]\n",
        "\n",
        "new_review = \"Game ini sangat bagus dan menghibur!\"\n",
        "predicted_emotion = predict_emotion(new_review, best_model, tfidf, le)\n",
        "print(f\"Ulasan: '{new_review}'\")\n",
        "print(f\"Prediksi Emosi: {predicted_emotion}\")\n",
        "\n",
        "new_review_2 = \"Saya sangat kecewa dengan update terbaru, banyak bug.\"\n",
        "predicted_emotion_2 = predict_emotion(new_review_2, best_model, tfidf, le)\n",
        "print(f\"Ulasan: '{new_review_2}'\")\n",
        "print(f\"Prediksi Emosi: {predicted_emotion_2}\")\n",
        "\n",
        "new_review_3 = \"Revamp Alice bagus bangettttt\"\n",
        "predicted_emotion_3 = predict_emotion(new_review_3, best_model, tfidf, le)\n",
        "print(f\"Ulasan: '{new_review_3}'\")\n",
        "print(f\"Prediksi Emosi: {predicted_emotion_3}\")"
      ],
      "metadata": {
        "colab": {
          "base_uri": "https://localhost:8080/"
        },
        "id": "2E6xvb-h31iK",
        "outputId": "b21ab270-5331-4e9e-c058-24fccb4c841c"
      },
      "execution_count": 59,
      "outputs": [
        {
          "output_type": "stream",
          "name": "stdout",
          "text": [
            "Ulasan: 'Game ini sangat bagus dan menghibur!'\n",
            "Prediksi Emosi: joy\n",
            "Ulasan: 'Saya sangat kecewa dengan update terbaru, banyak bug.'\n",
            "Prediksi Emosi: anger\n",
            "Ulasan: 'Revamp Alice bagus bangettttt'\n",
            "Prediksi Emosi: joy\n"
          ]
        }
      ]
    }
  ],
  "metadata": {
    "colab": {
      "provenance": []
    },
    "kernelspec": {
      "display_name": "Python 3",
      "name": "python3"
    },
    "language_info": {
      "name": "python"
    }
  },
  "nbformat": 4,
  "nbformat_minor": 0
}